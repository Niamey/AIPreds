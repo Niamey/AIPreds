{
  "nbformat": 4,
  "nbformat_minor": 0,
  "metadata": {
    "colab": {
      "provenance": []
    },
    "kernelspec": {
      "name": "python3",
      "display_name": "Python 3"
    },
    "language_info": {
      "name": "python"
    }
  },
  "cells": [
    {
      "cell_type": "code",
      "execution_count": 1,
      "metadata": {
        "colab": {
          "base_uri": "https://localhost:8080/"
        },
        "id": "9zzfFYPSuah5",
        "outputId": "f319c83e-7f5b-4344-84ea-beedcb253044"
      },
      "outputs": [
        {
          "output_type": "stream",
          "name": "stdout",
          "text": [
            "Mounted at /content/drive\n"
          ]
        }
      ],
      "source": [
        "import numpy as np\n",
        "import pandas as pd\n",
        "\n",
        "from google.colab import drive\n",
        "drive.mount('/content/drive')"
      ]
    },
    {
      "cell_type": "code",
      "source": [
        "dubai_apartments = pd.read_json('/content/drive/MyDrive/Projector_traning/dubai_propertyfinder_2024-04-21.json')\n",
        "dubai_apartments.head()"
      ],
      "metadata": {
        "colab": {
          "base_uri": "https://localhost:8080/",
          "height": 660
        },
        "id": "N87O32XzuqK2",
        "outputId": "52f641a5-0a58-40a2-8389-15aa5f8b9da7"
      },
      "execution_count": 2,
      "outputs": [
        {
          "output_type": "execute_result",
          "data": {
            "text/plain": [
              "         id                                           title  \\\n",
              "0  11272474          Spacious Studio l Pool View l High ROI   \n",
              "1  11382004  Good Deal |  Spacious | High Floor | Must See!   \n",
              "2  11354794          Studio | Q2 26 | 60/40 PP | 2 YRS Post   \n",
              "3  11354795          Studio | Q2 26 | 60/40 PP | 2 YRS Post   \n",
              "4  11191211  Prime Location | Pool View | Modern Furnishing   \n",
              "\n",
              "                                      displayAddress bedrooms bathrooms  \\\n",
              "0         Lincoln Park B, Lincoln Park, Arjan, Dubai   studio         1   \n",
              "1  Al Andalus Tower C, Al Andalus, Jumeirah Golf ...        1         1   \n",
              "2  Helvetia Residences, Jumeirah Village Circle, ...   studio         1   \n",
              "3  Helvetia Residences, Jumeirah Village Circle, ...   studio         1   \n",
              "4                     Jewelz by Danube, Arjan, Dubai   studio         1   \n",
              "\n",
              "                addedOn  verified priceDuration propertyType   price  \\\n",
              "0  2024-03-20T06:06:46Z      True          sell    Apartment  425000   \n",
              "1  2024-04-12T09:42:46Z      True          sell    Apartment  925000   \n",
              "2  2024-04-04T06:50:53Z     False          sell    Apartment  690000   \n",
              "3  2024-04-04T06:50:54Z     False          sell    Apartment  692000   \n",
              "4  2024-03-06T07:28:28Z      True          sell    Apartment  675000   \n",
              "\n",
              "  priceCurrency                                      coordinates  \\\n",
              "0           AED  {'latitude': 25.061007, 'longitude': 55.238113}   \n",
              "1           AED  {'latitude': 25.030499, 'longitude': 55.206486}   \n",
              "2           AED   {'latitude': 25.04747, 'longitude': 55.205948}   \n",
              "3           AED   {'latitude': 25.04747, 'longitude': 55.205948}   \n",
              "4           AED   {'latitude': 25.064808, 'longitude': 55.24055}   \n",
              "\n",
              "                   type   sizeMin furnishing  \\\n",
              "0  Residential for Sale  478 sqft        YES   \n",
              "1  Residential for Sale  777 sqft         NO   \n",
              "2  Residential for Sale  445 sqft     PARTLY   \n",
              "3  Residential for Sale  445 sqft     PARTLY   \n",
              "4  Residential for Sale  422 sqft        YES   \n",
              "\n",
              "                                            features  \\\n",
              "0  [Central A/C, Balcony, Shared Pool, Security, ...   \n",
              "1       [Central A/C, Balcony, Children's Play Area]   \n",
              "2                                          [Balcony]   \n",
              "3                                          [Balcony]   \n",
              "4  [Central A/C, Shared Pool, Covered Parking, Bu...   \n",
              "\n",
              "                                         description  \n",
              "0  Offering you a spacious Studio apartment avail...  \n",
              "1  Top Class Real Estate gladly offers 1 Bedroom ...  \n",
              "2  A studio apartment in Helvetia Residences by D...  \n",
              "3  A studio apartment in Helvetia Residences by D...  \n",
              "4  Azco Real Estate is thrilled to offer a stunni...  "
            ],
            "text/html": [
              "\n",
              "  <div id=\"df-de572499-9193-4000-91d8-048e30c512b9\" class=\"colab-df-container\">\n",
              "    <div>\n",
              "<style scoped>\n",
              "    .dataframe tbody tr th:only-of-type {\n",
              "        vertical-align: middle;\n",
              "    }\n",
              "\n",
              "    .dataframe tbody tr th {\n",
              "        vertical-align: top;\n",
              "    }\n",
              "\n",
              "    .dataframe thead th {\n",
              "        text-align: right;\n",
              "    }\n",
              "</style>\n",
              "<table border=\"1\" class=\"dataframe\">\n",
              "  <thead>\n",
              "    <tr style=\"text-align: right;\">\n",
              "      <th></th>\n",
              "      <th>id</th>\n",
              "      <th>title</th>\n",
              "      <th>displayAddress</th>\n",
              "      <th>bedrooms</th>\n",
              "      <th>bathrooms</th>\n",
              "      <th>addedOn</th>\n",
              "      <th>verified</th>\n",
              "      <th>priceDuration</th>\n",
              "      <th>propertyType</th>\n",
              "      <th>price</th>\n",
              "      <th>priceCurrency</th>\n",
              "      <th>coordinates</th>\n",
              "      <th>type</th>\n",
              "      <th>sizeMin</th>\n",
              "      <th>furnishing</th>\n",
              "      <th>features</th>\n",
              "      <th>description</th>\n",
              "    </tr>\n",
              "  </thead>\n",
              "  <tbody>\n",
              "    <tr>\n",
              "      <th>0</th>\n",
              "      <td>11272474</td>\n",
              "      <td>Spacious Studio l Pool View l High ROI</td>\n",
              "      <td>Lincoln Park B, Lincoln Park, Arjan, Dubai</td>\n",
              "      <td>studio</td>\n",
              "      <td>1</td>\n",
              "      <td>2024-03-20T06:06:46Z</td>\n",
              "      <td>True</td>\n",
              "      <td>sell</td>\n",
              "      <td>Apartment</td>\n",
              "      <td>425000</td>\n",
              "      <td>AED</td>\n",
              "      <td>{'latitude': 25.061007, 'longitude': 55.238113}</td>\n",
              "      <td>Residential for Sale</td>\n",
              "      <td>478 sqft</td>\n",
              "      <td>YES</td>\n",
              "      <td>[Central A/C, Balcony, Shared Pool, Security, ...</td>\n",
              "      <td>Offering you a spacious Studio apartment avail...</td>\n",
              "    </tr>\n",
              "    <tr>\n",
              "      <th>1</th>\n",
              "      <td>11382004</td>\n",
              "      <td>Good Deal |  Spacious | High Floor | Must See!</td>\n",
              "      <td>Al Andalus Tower C, Al Andalus, Jumeirah Golf ...</td>\n",
              "      <td>1</td>\n",
              "      <td>1</td>\n",
              "      <td>2024-04-12T09:42:46Z</td>\n",
              "      <td>True</td>\n",
              "      <td>sell</td>\n",
              "      <td>Apartment</td>\n",
              "      <td>925000</td>\n",
              "      <td>AED</td>\n",
              "      <td>{'latitude': 25.030499, 'longitude': 55.206486}</td>\n",
              "      <td>Residential for Sale</td>\n",
              "      <td>777 sqft</td>\n",
              "      <td>NO</td>\n",
              "      <td>[Central A/C, Balcony, Children's Play Area]</td>\n",
              "      <td>Top Class Real Estate gladly offers 1 Bedroom ...</td>\n",
              "    </tr>\n",
              "    <tr>\n",
              "      <th>2</th>\n",
              "      <td>11354794</td>\n",
              "      <td>Studio | Q2 26 | 60/40 PP | 2 YRS Post</td>\n",
              "      <td>Helvetia Residences, Jumeirah Village Circle, ...</td>\n",
              "      <td>studio</td>\n",
              "      <td>1</td>\n",
              "      <td>2024-04-04T06:50:53Z</td>\n",
              "      <td>False</td>\n",
              "      <td>sell</td>\n",
              "      <td>Apartment</td>\n",
              "      <td>690000</td>\n",
              "      <td>AED</td>\n",
              "      <td>{'latitude': 25.04747, 'longitude': 55.205948}</td>\n",
              "      <td>Residential for Sale</td>\n",
              "      <td>445 sqft</td>\n",
              "      <td>PARTLY</td>\n",
              "      <td>[Balcony]</td>\n",
              "      <td>A studio apartment in Helvetia Residences by D...</td>\n",
              "    </tr>\n",
              "    <tr>\n",
              "      <th>3</th>\n",
              "      <td>11354795</td>\n",
              "      <td>Studio | Q2 26 | 60/40 PP | 2 YRS Post</td>\n",
              "      <td>Helvetia Residences, Jumeirah Village Circle, ...</td>\n",
              "      <td>studio</td>\n",
              "      <td>1</td>\n",
              "      <td>2024-04-04T06:50:54Z</td>\n",
              "      <td>False</td>\n",
              "      <td>sell</td>\n",
              "      <td>Apartment</td>\n",
              "      <td>692000</td>\n",
              "      <td>AED</td>\n",
              "      <td>{'latitude': 25.04747, 'longitude': 55.205948}</td>\n",
              "      <td>Residential for Sale</td>\n",
              "      <td>445 sqft</td>\n",
              "      <td>PARTLY</td>\n",
              "      <td>[Balcony]</td>\n",
              "      <td>A studio apartment in Helvetia Residences by D...</td>\n",
              "    </tr>\n",
              "    <tr>\n",
              "      <th>4</th>\n",
              "      <td>11191211</td>\n",
              "      <td>Prime Location | Pool View | Modern Furnishing</td>\n",
              "      <td>Jewelz by Danube, Arjan, Dubai</td>\n",
              "      <td>studio</td>\n",
              "      <td>1</td>\n",
              "      <td>2024-03-06T07:28:28Z</td>\n",
              "      <td>True</td>\n",
              "      <td>sell</td>\n",
              "      <td>Apartment</td>\n",
              "      <td>675000</td>\n",
              "      <td>AED</td>\n",
              "      <td>{'latitude': 25.064808, 'longitude': 55.24055}</td>\n",
              "      <td>Residential for Sale</td>\n",
              "      <td>422 sqft</td>\n",
              "      <td>YES</td>\n",
              "      <td>[Central A/C, Shared Pool, Covered Parking, Bu...</td>\n",
              "      <td>Azco Real Estate is thrilled to offer a stunni...</td>\n",
              "    </tr>\n",
              "  </tbody>\n",
              "</table>\n",
              "</div>\n",
              "    <div class=\"colab-df-buttons\">\n",
              "\n",
              "  <div class=\"colab-df-container\">\n",
              "    <button class=\"colab-df-convert\" onclick=\"convertToInteractive('df-de572499-9193-4000-91d8-048e30c512b9')\"\n",
              "            title=\"Convert this dataframe to an interactive table.\"\n",
              "            style=\"display:none;\">\n",
              "\n",
              "  <svg xmlns=\"http://www.w3.org/2000/svg\" height=\"24px\" viewBox=\"0 -960 960 960\">\n",
              "    <path d=\"M120-120v-720h720v720H120Zm60-500h600v-160H180v160Zm220 220h160v-160H400v160Zm0 220h160v-160H400v160ZM180-400h160v-160H180v160Zm440 0h160v-160H620v160ZM180-180h160v-160H180v160Zm440 0h160v-160H620v160Z\"/>\n",
              "  </svg>\n",
              "    </button>\n",
              "\n",
              "  <style>\n",
              "    .colab-df-container {\n",
              "      display:flex;\n",
              "      gap: 12px;\n",
              "    }\n",
              "\n",
              "    .colab-df-convert {\n",
              "      background-color: #E8F0FE;\n",
              "      border: none;\n",
              "      border-radius: 50%;\n",
              "      cursor: pointer;\n",
              "      display: none;\n",
              "      fill: #1967D2;\n",
              "      height: 32px;\n",
              "      padding: 0 0 0 0;\n",
              "      width: 32px;\n",
              "    }\n",
              "\n",
              "    .colab-df-convert:hover {\n",
              "      background-color: #E2EBFA;\n",
              "      box-shadow: 0px 1px 2px rgba(60, 64, 67, 0.3), 0px 1px 3px 1px rgba(60, 64, 67, 0.15);\n",
              "      fill: #174EA6;\n",
              "    }\n",
              "\n",
              "    .colab-df-buttons div {\n",
              "      margin-bottom: 4px;\n",
              "    }\n",
              "\n",
              "    [theme=dark] .colab-df-convert {\n",
              "      background-color: #3B4455;\n",
              "      fill: #D2E3FC;\n",
              "    }\n",
              "\n",
              "    [theme=dark] .colab-df-convert:hover {\n",
              "      background-color: #434B5C;\n",
              "      box-shadow: 0px 1px 3px 1px rgba(0, 0, 0, 0.15);\n",
              "      filter: drop-shadow(0px 1px 2px rgba(0, 0, 0, 0.3));\n",
              "      fill: #FFFFFF;\n",
              "    }\n",
              "  </style>\n",
              "\n",
              "    <script>\n",
              "      const buttonEl =\n",
              "        document.querySelector('#df-de572499-9193-4000-91d8-048e30c512b9 button.colab-df-convert');\n",
              "      buttonEl.style.display =\n",
              "        google.colab.kernel.accessAllowed ? 'block' : 'none';\n",
              "\n",
              "      async function convertToInteractive(key) {\n",
              "        const element = document.querySelector('#df-de572499-9193-4000-91d8-048e30c512b9');\n",
              "        const dataTable =\n",
              "          await google.colab.kernel.invokeFunction('convertToInteractive',\n",
              "                                                    [key], {});\n",
              "        if (!dataTable) return;\n",
              "\n",
              "        const docLinkHtml = 'Like what you see? Visit the ' +\n",
              "          '<a target=\"_blank\" href=https://colab.research.google.com/notebooks/data_table.ipynb>data table notebook</a>'\n",
              "          + ' to learn more about interactive tables.';\n",
              "        element.innerHTML = '';\n",
              "        dataTable['output_type'] = 'display_data';\n",
              "        await google.colab.output.renderOutput(dataTable, element);\n",
              "        const docLink = document.createElement('div');\n",
              "        docLink.innerHTML = docLinkHtml;\n",
              "        element.appendChild(docLink);\n",
              "      }\n",
              "    </script>\n",
              "  </div>\n",
              "\n",
              "\n",
              "<div id=\"df-f78c2125-582d-4980-85a3-625779ea80e7\">\n",
              "  <button class=\"colab-df-quickchart\" onclick=\"quickchart('df-f78c2125-582d-4980-85a3-625779ea80e7')\"\n",
              "            title=\"Suggest charts\"\n",
              "            style=\"display:none;\">\n",
              "\n",
              "<svg xmlns=\"http://www.w3.org/2000/svg\" height=\"24px\"viewBox=\"0 0 24 24\"\n",
              "     width=\"24px\">\n",
              "    <g>\n",
              "        <path d=\"M19 3H5c-1.1 0-2 .9-2 2v14c0 1.1.9 2 2 2h14c1.1 0 2-.9 2-2V5c0-1.1-.9-2-2-2zM9 17H7v-7h2v7zm4 0h-2V7h2v10zm4 0h-2v-4h2v4z\"/>\n",
              "    </g>\n",
              "</svg>\n",
              "  </button>\n",
              "\n",
              "<style>\n",
              "  .colab-df-quickchart {\n",
              "      --bg-color: #E8F0FE;\n",
              "      --fill-color: #1967D2;\n",
              "      --hover-bg-color: #E2EBFA;\n",
              "      --hover-fill-color: #174EA6;\n",
              "      --disabled-fill-color: #AAA;\n",
              "      --disabled-bg-color: #DDD;\n",
              "  }\n",
              "\n",
              "  [theme=dark] .colab-df-quickchart {\n",
              "      --bg-color: #3B4455;\n",
              "      --fill-color: #D2E3FC;\n",
              "      --hover-bg-color: #434B5C;\n",
              "      --hover-fill-color: #FFFFFF;\n",
              "      --disabled-bg-color: #3B4455;\n",
              "      --disabled-fill-color: #666;\n",
              "  }\n",
              "\n",
              "  .colab-df-quickchart {\n",
              "    background-color: var(--bg-color);\n",
              "    border: none;\n",
              "    border-radius: 50%;\n",
              "    cursor: pointer;\n",
              "    display: none;\n",
              "    fill: var(--fill-color);\n",
              "    height: 32px;\n",
              "    padding: 0;\n",
              "    width: 32px;\n",
              "  }\n",
              "\n",
              "  .colab-df-quickchart:hover {\n",
              "    background-color: var(--hover-bg-color);\n",
              "    box-shadow: 0 1px 2px rgba(60, 64, 67, 0.3), 0 1px 3px 1px rgba(60, 64, 67, 0.15);\n",
              "    fill: var(--button-hover-fill-color);\n",
              "  }\n",
              "\n",
              "  .colab-df-quickchart-complete:disabled,\n",
              "  .colab-df-quickchart-complete:disabled:hover {\n",
              "    background-color: var(--disabled-bg-color);\n",
              "    fill: var(--disabled-fill-color);\n",
              "    box-shadow: none;\n",
              "  }\n",
              "\n",
              "  .colab-df-spinner {\n",
              "    border: 2px solid var(--fill-color);\n",
              "    border-color: transparent;\n",
              "    border-bottom-color: var(--fill-color);\n",
              "    animation:\n",
              "      spin 1s steps(1) infinite;\n",
              "  }\n",
              "\n",
              "  @keyframes spin {\n",
              "    0% {\n",
              "      border-color: transparent;\n",
              "      border-bottom-color: var(--fill-color);\n",
              "      border-left-color: var(--fill-color);\n",
              "    }\n",
              "    20% {\n",
              "      border-color: transparent;\n",
              "      border-left-color: var(--fill-color);\n",
              "      border-top-color: var(--fill-color);\n",
              "    }\n",
              "    30% {\n",
              "      border-color: transparent;\n",
              "      border-left-color: var(--fill-color);\n",
              "      border-top-color: var(--fill-color);\n",
              "      border-right-color: var(--fill-color);\n",
              "    }\n",
              "    40% {\n",
              "      border-color: transparent;\n",
              "      border-right-color: var(--fill-color);\n",
              "      border-top-color: var(--fill-color);\n",
              "    }\n",
              "    60% {\n",
              "      border-color: transparent;\n",
              "      border-right-color: var(--fill-color);\n",
              "    }\n",
              "    80% {\n",
              "      border-color: transparent;\n",
              "      border-right-color: var(--fill-color);\n",
              "      border-bottom-color: var(--fill-color);\n",
              "    }\n",
              "    90% {\n",
              "      border-color: transparent;\n",
              "      border-bottom-color: var(--fill-color);\n",
              "    }\n",
              "  }\n",
              "</style>\n",
              "\n",
              "  <script>\n",
              "    async function quickchart(key) {\n",
              "      const quickchartButtonEl =\n",
              "        document.querySelector('#' + key + ' button');\n",
              "      quickchartButtonEl.disabled = true;  // To prevent multiple clicks.\n",
              "      quickchartButtonEl.classList.add('colab-df-spinner');\n",
              "      try {\n",
              "        const charts = await google.colab.kernel.invokeFunction(\n",
              "            'suggestCharts', [key], {});\n",
              "      } catch (error) {\n",
              "        console.error('Error during call to suggestCharts:', error);\n",
              "      }\n",
              "      quickchartButtonEl.classList.remove('colab-df-spinner');\n",
              "      quickchartButtonEl.classList.add('colab-df-quickchart-complete');\n",
              "    }\n",
              "    (() => {\n",
              "      let quickchartButtonEl =\n",
              "        document.querySelector('#df-f78c2125-582d-4980-85a3-625779ea80e7 button');\n",
              "      quickchartButtonEl.style.display =\n",
              "        google.colab.kernel.accessAllowed ? 'block' : 'none';\n",
              "    })();\n",
              "  </script>\n",
              "</div>\n",
              "    </div>\n",
              "  </div>\n"
            ],
            "application/vnd.google.colaboratory.intrinsic+json": {
              "type": "dataframe",
              "variable_name": "dubai_apartments",
              "summary": "{\n  \"name\": \"dubai_apartments\",\n  \"rows\": 75100,\n  \"fields\": [\n    {\n      \"column\": \"id\",\n      \"properties\": {\n        \"dtype\": \"number\",\n        \"std\": 319147,\n        \"min\": 7816257,\n        \"max\": 11429296,\n        \"num_unique_values\": 75100,\n        \"samples\": [\n          11149678,\n          9749953,\n          11407446\n        ],\n        \"semantic_type\": \"\",\n        \"description\": \"\"\n      }\n    },\n    {\n      \"column\": \"title\",\n      \"properties\": {\n        \"dtype\": \"string\",\n        \"num_unique_values\": 59951,\n        \"samples\": [\n          \"Higher Floor | Sea View |2BR| Full Glass Windows|@2.1M\",\n          \"Spacious Layout | Well Maintained | Prime Location\",\n          \"Exclusive amenities | 3YS POST HANDOVER |10% DP\"\n        ],\n        \"semantic_type\": \"\",\n        \"description\": \"\"\n      }\n    },\n    {\n      \"column\": \"displayAddress\",\n      \"properties\": {\n        \"dtype\": \"category\",\n        \"num_unique_values\": 2555,\n        \"samples\": [\n          \"Al Fahad Towers, Barsha Heights (Tecom), Dubai\",\n          \"Al Andalus Tower D, Al Andalus, Jumeirah Golf Estates, Dubai\",\n          \"Canal Front Residence 5, Canal Front Residences, Al Wasl, Dubai\"\n        ],\n        \"semantic_type\": \"\",\n        \"description\": \"\"\n      }\n    },\n    {\n      \"column\": \"bedrooms\",\n      \"properties\": {\n        \"dtype\": \"category\",\n        \"num_unique_values\": 9,\n        \"samples\": [\n          \"7\",\n          \"1\",\n          \"5\"\n        ],\n        \"semantic_type\": \"\",\n        \"description\": \"\"\n      }\n    },\n    {\n      \"column\": \"bathrooms\",\n      \"properties\": {\n        \"dtype\": \"category\",\n        \"num_unique_values\": 9,\n        \"samples\": [\n          \"7\",\n          \"2\",\n          \"none\"\n        ],\n        \"semantic_type\": \"\",\n        \"description\": \"\"\n      }\n    },\n    {\n      \"column\": \"addedOn\",\n      \"properties\": {\n        \"dtype\": \"object\",\n        \"num_unique_values\": 69692,\n        \"samples\": [\n          \"2024-04-07T04:27:20Z\",\n          \"2024-04-16T05:54:55Z\",\n          \"2024-04-19T03:05:53Z\"\n        ],\n        \"semantic_type\": \"\",\n        \"description\": \"\"\n      }\n    },\n    {\n      \"column\": \"verified\",\n      \"properties\": {\n        \"dtype\": \"boolean\",\n        \"num_unique_values\": 2,\n        \"samples\": [\n          false,\n          true\n        ],\n        \"semantic_type\": \"\",\n        \"description\": \"\"\n      }\n    },\n    {\n      \"column\": \"priceDuration\",\n      \"properties\": {\n        \"dtype\": \"category\",\n        \"num_unique_values\": 1,\n        \"samples\": [\n          \"sell\"\n        ],\n        \"semantic_type\": \"\",\n        \"description\": \"\"\n      }\n    },\n    {\n      \"column\": \"propertyType\",\n      \"properties\": {\n        \"dtype\": \"category\",\n        \"num_unique_values\": 1,\n        \"samples\": [\n          \"Apartment\"\n        ],\n        \"semantic_type\": \"\",\n        \"description\": \"\"\n      }\n    },\n    {\n      \"column\": \"price\",\n      \"properties\": {\n        \"dtype\": \"number\",\n        \"std\": 8223088,\n        \"min\": 100000,\n        \"max\": 999999999,\n        \"num_unique_values\": 13501,\n        \"samples\": [\n          24400111\n        ],\n        \"semantic_type\": \"\",\n        \"description\": \"\"\n      }\n    },\n    {\n      \"column\": \"priceCurrency\",\n      \"properties\": {\n        \"dtype\": \"category\",\n        \"num_unique_values\": 1,\n        \"samples\": [\n          \"AED\"\n        ],\n        \"semantic_type\": \"\",\n        \"description\": \"\"\n      }\n    },\n    {\n      \"column\": \"coordinates\",\n      \"properties\": {\n        \"dtype\": \"object\",\n        \"semantic_type\": \"\",\n        \"description\": \"\"\n      }\n    },\n    {\n      \"column\": \"type\",\n      \"properties\": {\n        \"dtype\": \"category\",\n        \"num_unique_values\": 1,\n        \"samples\": [\n          \"Residential for Sale\"\n        ],\n        \"semantic_type\": \"\",\n        \"description\": \"\"\n      }\n    },\n    {\n      \"column\": \"sizeMin\",\n      \"properties\": {\n        \"dtype\": \"category\",\n        \"num_unique_values\": 3541,\n        \"samples\": [\n          \"1305 sqft\"\n        ],\n        \"semantic_type\": \"\",\n        \"description\": \"\"\n      }\n    },\n    {\n      \"column\": \"furnishing\",\n      \"properties\": {\n        \"dtype\": \"category\",\n        \"num_unique_values\": 4,\n        \"samples\": [\n          \"NO\"\n        ],\n        \"semantic_type\": \"\",\n        \"description\": \"\"\n      }\n    },\n    {\n      \"column\": \"features\",\n      \"properties\": {\n        \"dtype\": \"object\",\n        \"semantic_type\": \"\",\n        \"description\": \"\"\n      }\n    },\n    {\n      \"column\": \"description\",\n      \"properties\": {\n        \"dtype\": \"string\",\n        \"num_unique_values\": 53126,\n        \"samples\": [\n          \"Sunny and bright 1 bedroom apartment in Peninsula Four - on the banks of the Business Bay Canal in the center of the city. Purchasing this apartment is an ideal investment for investors and those who are looking for a place to live with a high level of comfort close to key business locations.\\n\\n** Best investment for your ideal life in the city center\\n\\nFeatures of the property include:\\n\\n\\u2022 Direct view of the Business Bay Canal and the stables of Dubai Sheikh Mohamed Bin Zayed\\n\\u2022 Very high floor with stunning panoramic views of the city, not blocked by other buildings\\n\\u2022 Spacious area 832 sq.ft.\\n\\u2022 Large balcony and panoramic windows from floor to ceiling\\n\\u2022 South facing: the apartment will always have a lot of sunlight for those who like to enjoy the sun\\n\\u2022 1 bathroom + powder room\\n\\u2022 Quick exit to Marasi Drive\\n\\u2022 7 elevators in the building for even greater comfort\\n\\nKey Amenities:\\n\\n\\u2022 Swimming Pool\\n\\u2022 Gymnasium\\n\\u2022 Fitness Studio\\n\\u2022 BBQ Areas\\n\\u2022 Parking Space\\n\\u2022 Kids Play Area\\n\\u2022 Manicured Gardens\\n\\u2022 Retail Outlets\\n\\u2022 Dining Venues\\n\\u2022 Boutique Cafes\\n\\nThe main feature is the Peninsula Promenade, where there will be a concert venue, a cinema, fountains, restaurants and shops, and The Community Mall.\"\n        ],\n        \"semantic_type\": \"\",\n        \"description\": \"\"\n      }\n    }\n  ]\n}"
            }
          },
          "metadata": {},
          "execution_count": 2
        }
      ]
    },
    {
      "cell_type": "code",
      "source": [
        "dubai_apartments.shape"
      ],
      "metadata": {
        "colab": {
          "base_uri": "https://localhost:8080/"
        },
        "id": "TSJQNkZXuuM4",
        "outputId": "5a810969-32ab-4d34-f1e3-4a3b1bb923c8"
      },
      "execution_count": 3,
      "outputs": [
        {
          "output_type": "execute_result",
          "data": {
            "text/plain": [
              "(75100, 17)"
            ]
          },
          "metadata": {},
          "execution_count": 3
        }
      ]
    },
    {
      "cell_type": "markdown",
      "source": [
        "**Маємо дані про 75100 квартир в Дубаї від 21 квітня 2024 року з сайту:**\n",
        "\n",
        "**https://www.propertyfinder.ae/en/search?l=1&c=1&t=1&fu=0&ob=mr.**"
      ],
      "metadata": {
        "id": "5coi32zau1Ko"
      }
    },
    {
      "cell_type": "code",
      "source": [
        "selected_features = [\n",
        "    'id',\n",
        "    'title',\n",
        "    'displayAddress',\n",
        "    'bedrooms',\n",
        "    'bathrooms',\n",
        "    'addedOn',\n",
        "    'verified',\n",
        "    'priceDuration',\n",
        "    'propertyType',\n",
        "    'price',\n",
        "    'priceCurrency',\n",
        "    'coordinates',\n",
        "    'type',\n",
        "    'sizeMin',\n",
        "    'furnishing',\n",
        "    'features',\n",
        "    'description'\n",
        "]"
      ],
      "metadata": {
        "id": "K0O82Ofouwna"
      },
      "execution_count": 4,
      "outputs": []
    },
    {
      "cell_type": "code",
      "source": [
        "dubai_apartments = dubai_apartments[selected_features]"
      ],
      "metadata": {
        "id": "mS5bSfn4u--F"
      },
      "execution_count": 5,
      "outputs": []
    },
    {
      "cell_type": "code",
      "source": [
        "missing_values_count = dubai_apartments.isna().sum()\n",
        "print(\"Missing values per column:\\n\", missing_values_count)"
      ],
      "metadata": {
        "colab": {
          "base_uri": "https://localhost:8080/"
        },
        "id": "y931umAlu_6F",
        "outputId": "8aea1978-040d-46fb-92ed-034450a664a9"
      },
      "execution_count": 6,
      "outputs": [
        {
          "output_type": "stream",
          "name": "stdout",
          "text": [
            "Missing values per column:\n",
            " id                 0\n",
            "title              0\n",
            "displayAddress     0\n",
            "bedrooms           1\n",
            "bathrooms         98\n",
            "addedOn            0\n",
            "verified           0\n",
            "priceDuration      0\n",
            "propertyType       0\n",
            "price              0\n",
            "priceCurrency      0\n",
            "coordinates        0\n",
            "type               0\n",
            "sizeMin            0\n",
            "furnishing         0\n",
            "features           0\n",
            "description        0\n",
            "dtype: int64\n"
          ]
        }
      ]
    },
    {
      "cell_type": "markdown",
      "source": [
        "Let's investigate features"
      ],
      "metadata": {
        "id": "dZGjEK0ovEmO"
      }
    },
    {
      "cell_type": "markdown",
      "source": [
        "Lest start from features which should be the same for all entities. They will not be used for boosting but we need to check that they are all identical."
      ],
      "metadata": {
        "id": "FFKrHWfevHNA"
      }
    },
    {
      "cell_type": "code",
      "source": [
        "unique_ids_count = dubai_apartments['id'].nunique()\n",
        "print(f\"Number of unique ids: {unique_ids_count}\")\n",
        "assert unique_ids_count == dubai_apartments.shape[0], \"All ids are unique\""
      ],
      "metadata": {
        "colab": {
          "base_uri": "https://localhost:8080/"
        },
        "id": "_RRzQJC_vCV2",
        "outputId": "0bde7736-5ce7-4f2d-b17c-9b8e6424eda7"
      },
      "execution_count": 7,
      "outputs": [
        {
          "output_type": "stream",
          "name": "stdout",
          "text": [
            "Number of unique ids: 75100\n"
          ]
        }
      ]
    },
    {
      "cell_type": "code",
      "source": [
        "price_duration_values = dubai_apartments['priceDuration'].value_counts(dropna=False)\n",
        "print(f\"Price Duration: {price_duration_values}\")\n",
        "assert price_duration_values['sell'] == dubai_apartments.shape[0], \"All values are the same\""
      ],
      "metadata": {
        "colab": {
          "base_uri": "https://localhost:8080/"
        },
        "id": "bY_A54VZvsTM",
        "outputId": "e0600da5-0b97-492a-ddfd-2f2ff8136636"
      },
      "execution_count": 8,
      "outputs": [
        {
          "output_type": "stream",
          "name": "stdout",
          "text": [
            "Price Duration: priceDuration\n",
            "sell    75100\n",
            "Name: count, dtype: int64\n"
          ]
        }
      ]
    },
    {
      "cell_type": "code",
      "source": [
        "property_type_values = dubai_apartments['propertyType'].value_counts(dropna=False)\n",
        "print(f\"Property type: {property_type_values}\")\n",
        "assert property_type_values['Apartment'] == dubai_apartments.shape[0], \"All entities are apartments\""
      ],
      "metadata": {
        "colab": {
          "base_uri": "https://localhost:8080/"
        },
        "id": "LR8QuI9ivutT",
        "outputId": "f78b27e6-82ca-4b8f-e612-e1c304c723ef"
      },
      "execution_count": 9,
      "outputs": [
        {
          "output_type": "stream",
          "name": "stdout",
          "text": [
            "Property type: propertyType\n",
            "Apartment    75100\n",
            "Name: count, dtype: int64\n"
          ]
        }
      ]
    },
    {
      "cell_type": "code",
      "source": [
        "price_currency_values = dubai_apartments['priceCurrency'].value_counts(dropna=False)\n",
        "print(f\"Price currency: {price_currency_values}\")\n",
        "assert price_currency_values['AED'] == dubai_apartments.shape[0], \"All prices are in AED\""
      ],
      "metadata": {
        "colab": {
          "base_uri": "https://localhost:8080/"
        },
        "id": "sVIy1oMUvx64",
        "outputId": "ae35464d-64c4-4d79-8611-6ed062ee94c9"
      },
      "execution_count": 10,
      "outputs": [
        {
          "output_type": "stream",
          "name": "stdout",
          "text": [
            "Price currency: priceCurrency\n",
            "AED    75100\n",
            "Name: count, dtype: int64\n"
          ]
        }
      ]
    },
    {
      "cell_type": "code",
      "source": [
        "type_values = dubai_apartments['type'].value_counts(dropna=False)\n",
        "print(f\"Type: {type_values}\")\n",
        "assert type_values['Residential for Sale'] == dubai_apartments.shape[0], \"All values are the same\""
      ],
      "metadata": {
        "colab": {
          "base_uri": "https://localhost:8080/"
        },
        "id": "cMW6ucpWv0sb",
        "outputId": "9751f36d-eeeb-4abc-fd1f-dad2e347a751"
      },
      "execution_count": 11,
      "outputs": [
        {
          "output_type": "stream",
          "name": "stdout",
          "text": [
            "Type: type\n",
            "Residential for Sale    75100\n",
            "Name: count, dtype: int64\n"
          ]
        }
      ]
    },
    {
      "cell_type": "code",
      "source": [
        "import matplotlib.pyplot as plt"
      ],
      "metadata": {
        "id": "r_MmJ3Wrv3Md"
      },
      "execution_count": 12,
      "outputs": []
    },
    {
      "cell_type": "code",
      "source": [
        "assert dubai_apartments[dubai_apartments['sizeMin'].str.endswith(' sqft')].shape == dubai_apartments.shape, \"All sizes are in sqft\"\n",
        "dubai_apartments['sizeSqft'] = dubai_apartments['sizeMin'].str.replace(' sqft', '').astype(int)\n",
        "dubai_apartments['sizeSqm'] = dubai_apartments['sizeSqft'] / 10.764"
      ],
      "metadata": {
        "id": "Wnn8up6hv55G"
      },
      "execution_count": 13,
      "outputs": []
    },
    {
      "cell_type": "code",
      "source": [
        "plt.hist(dubai_apartments[dubai_apartments['sizeSqm'] < 500]['sizeSqm'], bins=10, edgecolor='black')\n",
        "plt.title('Apartments sizes')\n",
        "plt.xlabel('Size, sq. m.')\n",
        "plt.ylabel('Count')\n",
        "plt.xticks(np.linspace(0, 500, 11), rotation=45)\n",
        "plt.tight_layout()\n",
        "plt.show()"
      ],
      "metadata": {
        "colab": {
          "base_uri": "https://localhost:8080/",
          "height": 487
        },
        "id": "S9RqiptDv-cA",
        "outputId": "7d73eb36-6c42-4f91-91b9-07c17d4e0350"
      },
      "execution_count": 14,
      "outputs": [
        {
          "output_type": "display_data",
          "data": {
            "text/plain": [
              "<Figure size 640x480 with 1 Axes>"
            ],
            "image/png": "[encoded data removed]"
          },
          "metadata": {}
        }
      ]
    },
    {
      "cell_type": "code",
      "source": [
        "dubai_apartments['sizeSqft'].sort_values(ascending=True)[:20]"
      ],
      "metadata": {
        "colab": {
          "base_uri": "https://localhost:8080/"
        },
        "id": "-A1ycudAwE3v",
        "outputId": "b729c19d-4f10-4deb-f4d0-419ed2bdbedb"
      },
      "execution_count": 15,
      "outputs": [
        {
          "output_type": "execute_result",
          "data": {
            "text/plain": [
              "66155      1\n",
              "47787      1\n",
              "69821      1\n",
              "47636     12\n",
              "47630     12\n",
              "47377     12\n",
              "19633     32\n",
              "16488     34\n",
              "1743      79\n",
              "1171      81\n",
              "17756     83\n",
              "3012      83\n",
              "685       84\n",
              "2582      86\n",
              "4259      88\n",
              "920       92\n",
              "13720     95\n",
              "40302    100\n",
              "65216    100\n",
              "47772    101\n",
              "Name: sizeSqft, dtype: int64"
            ]
          },
          "metadata": {},
          "execution_count": 15
        }
      ]
    },
    {
      "cell_type": "code",
      "source": [
        "dubai_apartments['sizeSqm'].sort_values(ascending=False)[:20]"
      ],
      "metadata": {
        "colab": {
          "base_uri": "https://localhost:8080/"
        },
        "id": "Ri1i1CNRwHqs",
        "outputId": "688de697-289c-487e-9c97-e3c1ba123334"
      },
      "execution_count": 16,
      "outputs": [
        {
          "output_type": "execute_result",
          "data": {
            "text/plain": [
              "66624    1.313446e+06\n",
              "66077    3.302042e+05\n",
              "59491    2.471200e+05\n",
              "59699    2.471200e+05\n",
              "62970    2.471200e+05\n",
              "62963    2.471200e+05\n",
              "62962    2.471200e+05\n",
              "62885    2.471200e+05\n",
              "59735    2.471200e+05\n",
              "59510    2.471200e+05\n",
              "63005    2.471200e+05\n",
              "59780    2.471200e+05\n",
              "59815    2.471200e+05\n",
              "38449    2.349182e+05\n",
              "2913     1.413973e+05\n",
              "39415    1.370603e+05\n",
              "44068    1.254181e+05\n",
              "37377    1.189149e+05\n",
              "43675    1.111130e+05\n",
              "12694    8.382284e+04\n",
              "Name: sizeSqm, dtype: float64"
            ]
          },
          "metadata": {},
          "execution_count": 16
        }
      ]
    },
    {
      "cell_type": "markdown",
      "source": [
        "It's seems like there are some unreal sizes but we will filter them by checking unreal prices for 1 sq. m."
      ],
      "metadata": {
        "id": "yCKy4H2HwNzh"
      }
    },
    {
      "cell_type": "markdown",
      "source": [
        "**Price**"
      ],
      "metadata": {
        "id": "YFK-WptEwPsT"
      }
    },
    {
      "cell_type": "code",
      "source": [
        "dubai_apartments['priceUSD'] = dubai_apartments['price'] / 3.672"
      ],
      "metadata": {
        "id": "9zVP66JWwWrY"
      },
      "execution_count": 17,
      "outputs": []
    },
    {
      "cell_type": "code",
      "source": [
        "from matplotlib.ticker import FormatStrFormatter\n",
        "\n",
        "plt.figure(figsize=(10, 5))\n",
        "\n",
        "plt.subplot(1, 2, 1)\n",
        "plt.hist(dubai_apartments['priceUSD'][dubai_apartments['priceUSD'] < 3_000_000], bins=10, edgecolor='black')\n",
        "plt.title('Apartments prices')\n",
        "plt.xlabel('Price')\n",
        "plt.ylabel('Count')\n",
        "plt.xticks(np.linspace(start=0, stop=3_000_000, num=11), rotation=70)\n",
        "plt.gca().xaxis.set_major_formatter(FormatStrFormatter('%.0f USD'))\n",
        "\n",
        "plt.subplot(1, 2, 2)\n",
        "plt.hist(dubai_apartments['priceUSD'][dubai_apartments['priceUSD'] < 1_000_000], bins=10, edgecolor='black')\n",
        "plt.title('Apartments prices')\n",
        "plt.xlabel('Price')\n",
        "plt.ylabel('Count')\n",
        "plt.xticks(np.linspace(start=0, stop=1_000_000, num=11), rotation=70)\n",
        "plt.gca().xaxis.set_major_formatter(FormatStrFormatter('%.0f USD'))\n",
        "\n",
        "plt.tight_layout()\n",
        "plt.show()"
      ],
      "metadata": {
        "colab": {
          "base_uri": "https://localhost:8080/",
          "height": 507
        },
        "id": "DSvjOzafwXqD",
        "outputId": "12767740-5950-4603-deab-24cbe1250dc8"
      },
      "execution_count": 18,
      "outputs": [
        {
          "output_type": "display_data",
          "data": {
            "text/plain": [
              "<Figure size 1000x500 with 2 Axes>"
            ],
            "image/png": "[encoded data removed]"
          },
          "metadata": {}
        }
      ]
    },
    {
      "cell_type": "code",
      "source": [
        "dubai_apartments['priceUSD'].sort_values(ascending=False)[:20]"
      ],
      "metadata": {
        "colab": {
          "base_uri": "https://localhost:8080/"
        },
        "id": "uUpX2jEnwaSJ",
        "outputId": "3465f1ad-406a-487b-dc78-f2ee200ffc57"
      },
      "execution_count": 19,
      "outputs": [
        {
          "output_type": "execute_result",
          "data": {
            "text/plain": [
              "60295    2.723312e+08\n",
              "63172    2.285270e+08\n",
              "65357    2.042484e+08\n",
              "65187    1.313998e+08\n",
              "60284    9.974129e+07\n",
              "65903    9.556849e+07\n",
              "62080    6.672113e+07\n",
              "67839    5.718954e+07\n",
              "73057    5.582813e+07\n",
              "65649    5.582789e+07\n",
              "69791    4.765795e+07\n",
              "65338    4.765795e+07\n",
              "51425    4.170752e+07\n",
              "72247    4.159858e+07\n",
              "64526    4.159858e+07\n",
              "52199    4.084967e+07\n",
              "57721    4.084967e+07\n",
              "61230    4.084967e+07\n",
              "65831    3.907952e+07\n",
              "56186    3.812636e+07\n",
              "Name: priceUSD, dtype: float64"
            ]
          },
          "metadata": {},
          "execution_count": 19
        }
      ]
    },
    {
      "cell_type": "code",
      "source": [
        "dubai_apartments['priceUSD'].sort_values(ascending=True)[:50]"
      ],
      "metadata": {
        "colab": {
          "base_uri": "https://localhost:8080/"
        },
        "id": "WM53LEW7weCk",
        "outputId": "2faf8459-5628-45ec-9f08-4d299497fa9d"
      },
      "execution_count": 20,
      "outputs": [
        {
          "output_type": "execute_result",
          "data": {
            "text/plain": [
              "9937     27233.115468\n",
              "14139    27233.115468\n",
              "14447    27233.115468\n",
              "14454    27233.115468\n",
              "14835    27233.115468\n",
              "14462    27233.115468\n",
              "14466    27233.115468\n",
              "14468    27233.115468\n",
              "14469    27233.115468\n",
              "9359     27233.115468\n",
              "10761    27233.115468\n",
              "15317    27233.115468\n",
              "15314    27233.115468\n",
              "15312    27233.115468\n",
              "15310    27233.115468\n",
              "15308    27233.115468\n",
              "15307    27233.115468\n",
              "11457    27233.115468\n",
              "14141    27233.115468\n",
              "9934     27233.115468\n",
              "14467    27233.115468\n",
              "9263     27233.115468\n",
              "9357     27233.115468\n",
              "9945     27233.115468\n",
              "9354     27233.115468\n",
              "9943     27233.115468\n",
              "9938     27233.115468\n",
              "9265     27233.115468\n",
              "9358     27233.115468\n",
              "9262     27233.115468\n",
              "14316    27233.115468\n",
              "14092    29956.427015\n",
              "14091    29956.427015\n",
              "14063    29956.427015\n",
              "14059    29956.427015\n",
              "16935    34858.387800\n",
              "17598    37935.729847\n",
              "16062    38580.882353\n",
              "15990    38580.882353\n",
              "13285    42483.660131\n",
              "6859     43837.690632\n",
              "307      45315.904139\n",
              "22165    46405.228758\n",
              "13284    47712.418301\n",
              "15933    48366.013072\n",
              "6847     54246.187364\n",
              "2767     57461.873638\n",
              "21862    59477.124183\n",
              "13125    59912.854031\n",
              "21869    60784.313725\n",
              "Name: priceUSD, dtype: float64"
            ]
          },
          "metadata": {},
          "execution_count": 20
        }
      ]
    },
    {
      "cell_type": "markdown",
      "source": [
        "**PRICE per sq. m.:**"
      ],
      "metadata": {
        "id": "2xgf3iiLwjjN"
      }
    },
    {
      "cell_type": "code",
      "source": [
        "dubai_apartments['pricePerSqmUSD'] = dubai_apartments['priceUSD'] / dubai_apartments['sizeSqm']"
      ],
      "metadata": {
        "id": "lMQq00TUwgsc"
      },
      "execution_count": 21,
      "outputs": []
    },
    {
      "cell_type": "code",
      "source": [
        "plt.hist(dubai_apartments['pricePerSqmUSD'][dubai_apartments['pricePerSqmUSD'] < 20_000], bins=10, edgecolor='black')\n",
        "plt.title('Apartments prices per sq. m.')\n",
        "plt.xlabel('Price per sq. m.')\n",
        "plt.ylabel('Count')\n",
        "plt.xticks(np.linspace(start=0, stop=20_000, num=11), rotation=70)\n",
        "plt.gca().xaxis.set_major_formatter(FormatStrFormatter('%.0f USD'))"
      ],
      "metadata": {
        "colab": {
          "base_uri": "https://localhost:8080/",
          "height": 536
        },
        "id": "DN8UFPBgwoGy",
        "outputId": "cf37f728-4b91-4a7a-f127-4004a542b01c"
      },
      "execution_count": 22,
      "outputs": [
        {
          "output_type": "display_data",
          "data": {
            "text/plain": [
              "<Figure size 640x480 with 1 Axes>"
            ],
            "image/png": "[encoded data removed]"
          },
          "metadata": {}
        }
      ]
    },
    {
      "cell_type": "code",
      "source": [
        "dubai_apartments['pricePerSqmUSD'].sort_values(ascending=False)[:50]"
      ],
      "metadata": {
        "colab": {
          "base_uri": "https://localhost:8080/"
        },
        "id": "bwjG29aCxE7P",
        "outputId": "0513de44-9066-43e2-e419-6e8b47108026"
      },
      "execution_count": 23,
      "outputs": [
        {
          "output_type": "execute_result",
          "data": {
            "text/plain": [
              "66155    1.137908e+07\n",
              "69821    6.009314e+06\n",
              "47787    2.981508e+06\n",
              "63172    1.918771e+06\n",
              "65903    8.269286e+05\n",
              "64077    8.075406e+05\n",
              "66179    5.366207e+05\n",
              "74439    4.843914e+05\n",
              "47636    3.655204e+05\n",
              "47630    3.611229e+05\n",
              "47377    3.583532e+05\n",
              "59506    2.004681e+05\n",
              "58656    1.650995e+05\n",
              "52476    1.456803e+05\n",
              "74427    1.150285e+05\n",
              "65357    9.818370e+04\n",
              "73995    7.922629e+04\n",
              "65548    7.502387e+04\n",
              "65216    7.108578e+04\n",
              "74995    6.935837e+04\n",
              "19633    6.870404e+04\n",
              "69219    6.630486e+04\n",
              "60430    6.482262e+04\n",
              "69811    6.365319e+04\n",
              "68230    6.102863e+04\n",
              "68121    6.035179e+04\n",
              "66825    5.995989e+04\n",
              "65510    5.853495e+04\n",
              "70365    5.732802e+04\n",
              "74992    5.537037e+04\n",
              "58893    5.367302e+04\n",
              "63255    5.304509e+04\n",
              "70714    5.284019e+04\n",
              "40302    5.232500e+04\n",
              "74354    5.025210e+04\n",
              "68884    5.005998e+04\n",
              "71905    4.976863e+04\n",
              "55721    4.895821e+04\n",
              "70616    4.885621e+04\n",
              "65046    4.885621e+04\n",
              "67640    4.763480e+04\n",
              "51501    4.739487e+04\n",
              "59779    4.645690e+04\n",
              "64976    4.584967e+04\n",
              "60089    4.523383e+04\n",
              "44746    4.435859e+04\n",
              "52199    4.354386e+04\n",
              "69791    4.348849e+04\n",
              "65338    4.348849e+04\n",
              "54173    4.345993e+04\n",
              "Name: pricePerSqmUSD, dtype: float64"
            ]
          },
          "metadata": {},
          "execution_count": 23
        }
      ]
    },
    {
      "cell_type": "code",
      "source": [
        "dubai_apartments['pricePerSqmUSD'].sort_values(ascending=True)[:50]"
      ],
      "metadata": {
        "colab": {
          "base_uri": "https://localhost:8080/"
        },
        "id": "mE_POrYrxF91",
        "outputId": "efabd300-18c2-48e9-926c-637fb656ef6e"
      },
      "execution_count": 24,
      "outputs": [
        {
          "output_type": "execute_result",
          "data": {
            "text/plain": [
              "66624      1.025278\n",
              "2913       1.346274\n",
              "18480      2.224631\n",
              "38449      2.318519\n",
              "109        2.345096\n",
              "66077      2.927811\n",
              "19054      2.931363\n",
              "18560      2.931373\n",
              "43675      2.931373\n",
              "18745      2.931373\n",
              "44068      2.931373\n",
              "16824      2.931373\n",
              "39415      2.931379\n",
              "19053      2.931382\n",
              "12694      3.053872\n",
              "37377      3.178707\n",
              "2177       3.222691\n",
              "13092      4.284314\n",
              "4841       4.337171\n",
              "31417      7.315112\n",
              "72944      9.025952\n",
              "11457     15.464088\n",
              "63005     18.096266\n",
              "59815     18.096266\n",
              "59699     18.243937\n",
              "62970     18.243937\n",
              "62885     18.591073\n",
              "59735     18.591073\n",
              "59780     18.646174\n",
              "59510     18.646174\n",
              "62963     18.844538\n",
              "59491     18.844538\n",
              "62962     19.518974\n",
              "10796     27.362160\n",
              "44628     36.642157\n",
              "15354     37.551211\n",
              "15359     37.551211\n",
              "50795     38.406225\n",
              "42693     39.140129\n",
              "39929     40.988248\n",
              "69345     60.006644\n",
              "41737     71.837290\n",
              "14316     75.667851\n",
              "59053     78.482254\n",
              "70635     91.379871\n",
              "65646    100.507901\n",
              "35999    109.592800\n",
              "31796    109.592800\n",
              "14835    134.775749\n",
              "9945     146.862352\n",
              "Name: pricePerSqmUSD, dtype: float64"
            ]
          },
          "metadata": {},
          "execution_count": 24
        }
      ]
    },
    {
      "cell_type": "code",
      "source": [
        "dubai_apartments[dubai_apartments['pricePerSqmUSD'] >= 20_000].shape"
      ],
      "metadata": {
        "colab": {
          "base_uri": "https://localhost:8080/"
        },
        "id": "2VbY-1VLxJA5",
        "outputId": "e30733e8-430f-4201-a6d8-3e17bfdeeac4"
      },
      "execution_count": 25,
      "outputs": [
        {
          "output_type": "execute_result",
          "data": {
            "text/plain": [
              "(718, 21)"
            ]
          },
          "metadata": {},
          "execution_count": 25
        }
      ]
    },
    {
      "cell_type": "code",
      "source": [
        "dubai_apartments[dubai_apartments['pricePerSqmUSD'] >= 50_000].shape"
      ],
      "metadata": {
        "colab": {
          "base_uri": "https://localhost:8080/"
        },
        "id": "h1U6u0PFxLxL",
        "outputId": "1a6a911b-0fb2-475f-dc05-a49436d0a7fc"
      },
      "execution_count": 26,
      "outputs": [
        {
          "output_type": "execute_result",
          "data": {
            "text/plain": [
              "(36, 21)"
            ]
          },
          "metadata": {},
          "execution_count": 26
        }
      ]
    },
    {
      "cell_type": "code",
      "source": [
        "dubai_apartments[dubai_apartments['pricePerSqmUSD'] < 1000].shape"
      ],
      "metadata": {
        "colab": {
          "base_uri": "https://localhost:8080/"
        },
        "id": "R23rBY9dxOJS",
        "outputId": "ed8a4645-2ae6-4763-b421-0541fde9a824"
      },
      "execution_count": 27,
      "outputs": [
        {
          "output_type": "execute_result",
          "data": {
            "text/plain": [
              "(192, 21)"
            ]
          },
          "metadata": {},
          "execution_count": 27
        }
      ]
    },
    {
      "cell_type": "code",
      "source": [
        "dubai_apartments[dubai_apartments['pricePerSqmUSD'] < 500].shape"
      ],
      "metadata": {
        "colab": {
          "base_uri": "https://localhost:8080/"
        },
        "id": "ZfLn3R2xxQp6",
        "outputId": "244d3826-881f-4be8-b8ee-06d9c46567d9"
      },
      "execution_count": 28,
      "outputs": [
        {
          "output_type": "execute_result",
          "data": {
            "text/plain": [
              "(88, 21)"
            ]
          },
          "metadata": {},
          "execution_count": 28
        }
      ]
    },
    {
      "cell_type": "code",
      "source": [
        "dubai_apartments['pricePerSqmUSD'].quantile(0.001)"
      ],
      "metadata": {
        "colab": {
          "base_uri": "https://localhost:8080/"
        },
        "id": "3uX0jRCSxUPE",
        "outputId": "091c88f1-f473-4c7c-c7a2-21b260274dd5"
      },
      "execution_count": 29,
      "outputs": [
        {
          "output_type": "execute_result",
          "data": {
            "text/plain": [
              "346.0888487626455"
            ]
          },
          "metadata": {},
          "execution_count": 29
        }
      ]
    },
    {
      "cell_type": "code",
      "source": [
        "dubai_apartments['pricePerSqmUSD'].quantile(0.999)"
      ],
      "metadata": {
        "colab": {
          "base_uri": "https://localhost:8080/"
        },
        "id": "3NwyNrX2xVXB",
        "outputId": "8a81b19b-22fb-4aec-bf48-2532ee150e3d"
      },
      "execution_count": 30,
      "outputs": [
        {
          "output_type": "execute_result",
          "data": {
            "text/plain": [
              "39044.12916616235"
            ]
          },
          "metadata": {},
          "execution_count": 30
        }
      ]
    },
    {
      "cell_type": "markdown",
      "source": [
        "Let's remove unreally expensive and cheap apartments"
      ],
      "metadata": {
        "id": "ROBpsK6_xZyA"
      }
    },
    {
      "cell_type": "code",
      "source": [
        "dubai_apartments.shape"
      ],
      "metadata": {
        "colab": {
          "base_uri": "https://localhost:8080/"
        },
        "id": "K8MjOHYcxXjG",
        "outputId": "094a9fc4-8d8a-4674-8b06-487bfb9fd044"
      },
      "execution_count": 31,
      "outputs": [
        {
          "output_type": "execute_result",
          "data": {
            "text/plain": [
              "(75100, 21)"
            ]
          },
          "metadata": {},
          "execution_count": 31
        }
      ]
    },
    {
      "cell_type": "code",
      "source": [
        "dubai_apartments = dubai_apartments[(dubai_apartments['pricePerSqmUSD'] >= 500) & (dubai_apartments['pricePerSqmUSD'] <= 50000)]"
      ],
      "metadata": {
        "id": "ZQMYFzRhxcmn"
      },
      "execution_count": 32,
      "outputs": []
    },
    {
      "cell_type": "code",
      "source": [
        "dubai_apartments.shape"
      ],
      "metadata": {
        "colab": {
          "base_uri": "https://localhost:8080/"
        },
        "id": "extCyvgYxf2_",
        "outputId": "da2f48d0-5432-44ba-9e84-76d54cee4cfb"
      },
      "execution_count": 33,
      "outputs": [
        {
          "output_type": "execute_result",
          "data": {
            "text/plain": [
              "(74976, 21)"
            ]
          },
          "metadata": {},
          "execution_count": 33
        }
      ]
    },
    {
      "cell_type": "code",
      "source": [
        "bedrooms_values = dubai_apartments['bedrooms'].value_counts(dropna=False)\n",
        "print(f\"Possible bedrooms: {bedrooms_values}\")"
      ],
      "metadata": {
        "colab": {
          "base_uri": "https://localhost:8080/"
        },
        "id": "93DrGT5_xiA5",
        "outputId": "9c8e4180-b999-4917-d7e3-96a0da5ad7bb"
      },
      "execution_count": 34,
      "outputs": [
        {
          "output_type": "stream",
          "name": "stdout",
          "text": [
            "Possible bedrooms: bedrooms\n",
            "1         29141\n",
            "2         24816\n",
            "studio    11838\n",
            "3          7779\n",
            "4          1186\n",
            "5           174\n",
            "6            34\n",
            "7+            4\n",
            "7             3\n",
            "None          1\n",
            "Name: count, dtype: int64\n"
          ]
        }
      ]
    },
    {
      "cell_type": "markdown",
      "source": [
        "For 'None' and '7+' we will need to find solution. Можна приблизно оцінити виходячи з загальної площі. Or simply drop since there are a very few of them."
      ],
      "metadata": {
        "id": "I-SMQtWlxnRy"
      }
    },
    {
      "cell_type": "code",
      "source": [
        "dubai_apartments = dubai_apartments[(dubai_apartments['bedrooms'].notnull()) & (dubai_apartments['bedrooms'] != '7+')]\n",
        "dubai_apartments.loc[dubai_apartments['bedrooms'] == 'studio', 'bedrooms'] = '0'\n",
        "dubai_apartments['bedrooms'] = dubai_apartments['bedrooms'].astype(int)\n",
        "dubai_apartments.shape"
      ],
      "metadata": {
        "colab": {
          "base_uri": "https://localhost:8080/"
        },
        "id": "M_1CiR7wxktY",
        "outputId": "6b805dad-b284-465e-dcfd-71cc8151ab1e"
      },
      "execution_count": 35,
      "outputs": [
        {
          "output_type": "execute_result",
          "data": {
            "text/plain": [
              "(74971, 21)"
            ]
          },
          "metadata": {},
          "execution_count": 35
        }
      ]
    },
    {
      "cell_type": "code",
      "source": [
        "plt.hist(dubai_apartments['bedrooms'], bins=7, align='left', rwidth=0.5, edgecolor='black')\n",
        "plt.title('Number of bedrooms')\n",
        "plt.xlabel('Bedrooms')\n",
        "plt.ylabel('Count')\n",
        "plt.xticks(np.linspace(0, 7, 8), rotation=0)\n",
        "plt.tight_layout()\n",
        "plt.show()"
      ],
      "metadata": {
        "colab": {
          "base_uri": "https://localhost:8080/",
          "height": 487
        },
        "id": "n_Mx_TIOxrdB",
        "outputId": "f2b1f46c-5cd3-4d15-ebbb-7b75c534253d"
      },
      "execution_count": 36,
      "outputs": [
        {
          "output_type": "display_data",
          "data": {
            "text/plain": [
              "<Figure size 640x480 with 1 Axes>"
            ],
            "image/png": "[encoded data removed]"
          },
          "metadata": {}
        }
      ]
    },
    {
      "cell_type": "markdown",
      "source": [
        "**BATHROOMS:**"
      ],
      "metadata": {
        "id": "-3CpXbDCxxUv"
      }
    },
    {
      "cell_type": "code",
      "source": [
        "bathrooms_values = dubai_apartments['bathrooms'].value_counts(dropna=False)\n",
        "print(f\"Possible bathrooms: {bathrooms_values}\")"
      ],
      "metadata": {
        "colab": {
          "base_uri": "https://localhost:8080/"
        },
        "id": "00fE4Pqjxujm",
        "outputId": "e8d41f2d-49c0-4d92-eb3d-111312652930"
      },
      "execution_count": 37,
      "outputs": [
        {
          "output_type": "stream",
          "name": "stdout",
          "text": [
            "Possible bathrooms: bathrooms\n",
            "2       28688\n",
            "1       21868\n",
            "3       16978\n",
            "4        5702\n",
            "5        1272\n",
            "6         274\n",
            "None       96\n",
            "7          63\n",
            "none       21\n",
            "7+          9\n",
            "Name: count, dtype: int64\n"
          ]
        }
      ]
    },
    {
      "cell_type": "markdown",
      "source": [
        "For 'None/none' and '7+' we will need to find solution. Можна приблизно оцінити виходячи з загальної площі. Or simply drop since there are a very few of them."
      ],
      "metadata": {
        "id": "8gxmUr1xx3bE"
      }
    },
    {
      "cell_type": "code",
      "source": [
        "dubai_apartments = dubai_apartments[(dubai_apartments['bathrooms'].notnull()) & (dubai_apartments['bathrooms'] != '7+') & (dubai_apartments['bathrooms'] != 'none')]\n",
        "dubai_apartments['bathrooms'] = dubai_apartments['bathrooms'].astype(int)\n",
        "dubai_apartments.shape"
      ],
      "metadata": {
        "colab": {
          "base_uri": "https://localhost:8080/"
        },
        "id": "ylznnl0Sx1hS",
        "outputId": "9445554b-816f-4827-c3aa-11e94da5ab73"
      },
      "execution_count": 38,
      "outputs": [
        {
          "output_type": "stream",
          "name": "stderr",
          "text": [
            "<ipython-input-38-3b1f0bf94ac3>:2: SettingWithCopyWarning: \n",
            "A value is trying to be set on a copy of a slice from a DataFrame.\n",
            "Try using .loc[row_indexer,col_indexer] = value instead\n",
            "\n",
            "See the caveats in the documentation: https://pandas.pydata.org/pandas-docs/stable/user_guide/indexing.html#returning-a-view-versus-a-copy\n",
            "  dubai_apartments['bathrooms'] = dubai_apartments['bathrooms'].astype(int)\n"
          ]
        },
        {
          "output_type": "execute_result",
          "data": {
            "text/plain": [
              "(74845, 21)"
            ]
          },
          "metadata": {},
          "execution_count": 38
        }
      ]
    },
    {
      "cell_type": "code",
      "source": [
        "plt.hist(dubai_apartments['bathrooms'], bins=6, align='left', rwidth=0.5, edgecolor='black')\n",
        "plt.title('Number of bathrooms')\n",
        "plt.xlabel('Bathrooms')\n",
        "plt.ylabel('Count')\n",
        "plt.xticks(np.linspace(1, 7, 7), rotation=0)\n",
        "plt.tight_layout()\n",
        "plt.show()"
      ],
      "metadata": {
        "colab": {
          "base_uri": "https://localhost:8080/",
          "height": 487
        },
        "id": "Hjh7cQzex6bU",
        "outputId": "7169d0b9-4557-441c-a736-f4001eaa6525"
      },
      "execution_count": 39,
      "outputs": [
        {
          "output_type": "display_data",
          "data": {
            "text/plain": [
              "<Figure size 640x480 with 1 Axes>"
            ],
            "image/png": "[encoded data removed]"
          },
          "metadata": {}
        }
      ]
    },
    {
      "cell_type": "markdown",
      "source": [
        "**VERIFIED:**"
      ],
      "metadata": {
        "id": "9fPp6jRtyF2r"
      }
    },
    {
      "cell_type": "code",
      "source": [
        "verified_values = dubai_apartments['verified'].value_counts(dropna=False)\n",
        "print(f\"Verified: {verified_values}\")"
      ],
      "metadata": {
        "colab": {
          "base_uri": "https://localhost:8080/"
        },
        "id": "fHVFC0nnyH1A",
        "outputId": "24a540e1-35ec-4338-e02c-a315a98f70af"
      },
      "execution_count": 40,
      "outputs": [
        {
          "output_type": "stream",
          "name": "stdout",
          "text": [
            "Verified: verified\n",
            "False    54259\n",
            "True     20586\n",
            "Name: count, dtype: int64\n"
          ]
        }
      ]
    },
    {
      "cell_type": "markdown",
      "source": [
        "**FURNISHING:**"
      ],
      "metadata": {
        "id": "WCqtfwu0yKAg"
      }
    },
    {
      "cell_type": "code",
      "source": [
        "furnishing_values = dubai_apartments['furnishing'].value_counts(dropna=False)\n",
        "print(f\"Furnishing values: {furnishing_values}\")"
      ],
      "metadata": {
        "colab": {
          "base_uri": "https://localhost:8080/"
        },
        "id": "ckALwm7UyNg0",
        "outputId": "7b2f07be-3fa9-45d2-f08b-70b52eb42980"
      },
      "execution_count": 41,
      "outputs": [
        {
          "output_type": "stream",
          "name": "stdout",
          "text": [
            "Furnishing values: furnishing\n",
            "NO        38617\n",
            "YES       23706\n",
            "PARTLY    12289\n",
            "            233\n",
            "Name: count, dtype: int64\n"
          ]
        }
      ]
    },
    {
      "cell_type": "markdown",
      "source": [
        "**Ad Date**"
      ],
      "metadata": {
        "id": "xRjRaqhpz4Sp"
      }
    },
    {
      "cell_type": "code",
      "source": [
        "from datetime import datetime\n",
        "dubai_apartments['addedDate'] = pd.to_datetime(dubai_apartments['addedOn'])"
      ],
      "metadata": {
        "id": "OzwALcLIz6CB"
      },
      "execution_count": 43,
      "outputs": []
    },
    {
      "cell_type": "code",
      "source": [
        "max_date = dubai_apartments['addedDate'].max()\n",
        "min_date = max_date - pd.DateOffset(years=1)\n",
        "\n",
        "plt.hist(dubai_apartments['addedDate'][dubai_apartments['addedDate'] > min_date], bins=12, edgecolor='black')\n",
        "plt.title('Apartment selling ads count')\n",
        "plt.xlabel('Advertisement date')\n",
        "plt.ylabel('Count')\n",
        "plt.xticks(pd.date_range(start=min_date.strftime('%Y-%m-%d'), end=max_date.strftime('%Y-%m-%d'), periods=13), rotation=80)\n",
        "plt.tight_layout()\n",
        "plt.show()"
      ],
      "metadata": {
        "colab": {
          "base_uri": "https://localhost:8080/",
          "height": 487
        },
        "id": "VjFw6kFlz-jX",
        "outputId": "092082b1-6246-44d9-f096-c6714576ff20"
      },
      "execution_count": 44,
      "outputs": [
        {
          "output_type": "display_data",
          "data": {
            "text/plain": [
              "<Figure size 640x480 with 1 Axes>"
            ],
            "image/png": "[encoded data removed]"
          },
          "metadata": {}
        }
      ]
    },
    {
      "cell_type": "markdown",
      "source": [
        "So, almost all ads are quite recent."
      ],
      "metadata": {
        "id": "m0iMirOq0E84"
      }
    },
    {
      "cell_type": "code",
      "source": [
        "dubai_apartments['adMonths'] = (max_date - dubai_apartments['addedDate']).dt.days // 30\n",
        "print(dubai_apartments['adMonths'].value_counts())"
      ],
      "metadata": {
        "colab": {
          "base_uri": "https://localhost:8080/"
        },
        "id": "zOwBzMTj0Cgs",
        "outputId": "ed02b83e-8fbd-490f-ce66-770ceec25e87"
      },
      "execution_count": 45,
      "outputs": [
        {
          "output_type": "stream",
          "name": "stdout",
          "text": [
            "adMonths\n",
            "0     32810\n",
            "1     20103\n",
            "2      9860\n",
            "3      4530\n",
            "4      2451\n",
            "5      1924\n",
            "6      1006\n",
            "7       613\n",
            "8       444\n",
            "11      275\n",
            "10      252\n",
            "9       236\n",
            "12       79\n",
            "13       63\n",
            "14       49\n",
            "15       18\n",
            "22       15\n",
            "18       14\n",
            "17       13\n",
            "23       12\n",
            "19       10\n",
            "24        9\n",
            "16        8\n",
            "21        8\n",
            "26        5\n",
            "28        4\n",
            "25        4\n",
            "20        4\n",
            "27        4\n",
            "31        3\n",
            "33        3\n",
            "30        3\n",
            "29        2\n",
            "41        2\n",
            "35        2\n",
            "34        2\n",
            "37        2\n",
            "32        1\n",
            "36        1\n",
            "39        1\n",
            "Name: count, dtype: int64\n"
          ]
        }
      ]
    },
    {
      "cell_type": "code",
      "source": [
        "dubai_apartments.to_json('/content/drive/MyDrive/Projector_traning/dubaiApp.json')"
      ],
      "metadata": {
        "id": "L6eA89fdymlV"
      },
      "execution_count": 46,
      "outputs": []
    }
  ]
}